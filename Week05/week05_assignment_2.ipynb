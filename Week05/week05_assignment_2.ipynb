{
  "cells": [
    {
      "cell_type": "markdown",
      "metadata": {
        "id": "view-in-github",
        "colab_type": "text"
      },
      "source": [
        "<a href=\"https://colab.research.google.com/github/Shruti7001/-HD5210-Homework-/blob/main/Week05/week05_assignment_2.ipynb\" target=\"_parent\"><img src=\"https://colab.research.google.com/assets/colab-badge.svg\" alt=\"Open In Colab\"/></a>"
      ]
    },
    {
      "cell_type": "markdown",
      "metadata": {
        "nbgrader": {
          "grade": false,
          "grade_id": "intro",
          "locked": true,
          "schema_version": 1,
          "solution": false
        },
        "id": "gzhu2aMz6Cwt"
      },
      "source": [
        "# Week 5 Exercises\n",
        "\n",
        "_McKinney 3.2_\n",
        "\n",
        "**Unlike in previous weeks, in the exercises below, you will need to create a function definition from scratch.  I'll provide specific instructions and examples for how it will be used, but you will have to do the work of definiging the whole function.**\n",
        "\n",
        "---\n",
        "---"
      ]
    },
    {
      "cell_type": "markdown",
      "metadata": {
        "nbgrader": {
          "grade": false,
          "grade_id": "longest",
          "locked": true,
          "schema_version": 1,
          "solution": false
        },
        "id": "7UGNPwxF6Cwu"
      },
      "source": [
        "### 25.1 Longest String\n",
        "\n",
        "Write a function called `longest (L)` that takes as its only parameter a list of strings.  Your function needs to find the longest of those strings and return the position number of that longest string.  An example is provided below:\n",
        "\n",
        "The longest word in that list of strings is \"birthday\" in position #1, so `longest(strings)` should return 1.\n",
        "```\n",
        ">>> strings = ['happy', 'birthday', 'to', 'me']\n",
        ">>> longest(strings)\n",
        "1\n",
        "```\n",
        "\n",
        "Be sure to include a docstring.  Include test cases in your docstring if you want to."
      ]
    },
    {
      "cell_type": "code",
      "execution_count": 24,
      "metadata": {
        "nbgrader": {
          "grade": false,
          "grade_id": "longest-answer",
          "locked": false,
          "schema_version": 1,
          "solution": true
        },
        "id": "YSCDUD7o6Cwv"
      },
      "outputs": [],
      "source": [
        "### BEGIN SOLUTION\n",
        "\n",
        "\n",
        "def longest(L):\n",
        "    if not L:  # Check if the list is empty\n",
        "        return None  # Return None if the list is empty\n",
        "\n",
        "    longest_index = 0  # Start with the first string as the longest\n",
        "\n",
        "    # Use enumerate to loop through the list with index\n",
        "    for index, string in enumerate(L):\n",
        "        if len(string) > len(L[longest_index]):  # Compare lengths\n",
        "            longest_index = index  # Update the index of the longest string\n",
        "\n",
        "    return longest_index  # Return the index of the longest string\n",
        "\n",
        "    ### END SOLUTION\n",
        "\n"
      ]
    },
    {
      "cell_type": "code",
      "execution_count": 3,
      "metadata": {
        "nbgrader": {
          "grade": true,
          "grade_id": "longest-tests",
          "locked": true,
          "points": 10,
          "schema_version": 1,
          "solution": false
        },
        "id": "LwzwkYTy6Cwv"
      },
      "outputs": [],
      "source": [
        "assert longest(\"happy birthday to me\".split(\" \")) == 1\n",
        "assert longest(\"enjoy class\".split(\" \")) == 0\n",
        "assert longest(['when','what','where','how','who']) == 2"
      ]
    },
    {
      "cell_type": "code",
      "execution_count": 4,
      "metadata": {
        "id": "qzS6W1cq6Cww",
        "outputId": "eb2e253e-61ae-43e4-f149-c6624d289bb3",
        "colab": {
          "base_uri": "https://localhost:8080/"
        }
      },
      "outputs": [
        {
          "output_type": "stream",
          "name": "stdout",
          "text": [
            "Finding tests in NoName\n"
          ]
        }
      ],
      "source": [
        "import doctest\n",
        "doctest.run_docstring_examples(longest, globals(), verbose=True)"
      ]
    },
    {
      "cell_type": "markdown",
      "metadata": {
        "id": "uK08Beut6Cww"
      },
      "source": [
        "### 25.2 Farenheit to Celsius\n",
        "\n",
        "Write a function called f_to_c() that converts a given temperature in degrees Farenheit to degrees Celsius.  If you don't recall that conversion, it is:\n",
        "\n",
        "$ temp_c = \\frac{5}{9} \\times (temp_f - 32) $\n",
        "\n",
        "Make sure that you code is well documented using the DocString examples, and that your code includes tests for 212f, 32f, and 98.6f."
      ]
    },
    {
      "cell_type": "code",
      "execution_count": 5,
      "metadata": {
        "id": "gNxaMIjB6Cww"
      },
      "outputs": [],
      "source": [
        "### BEGIN SOLUTION\n",
        "\n",
        "def f_to_c(tempf):\n",
        "    \"\"\"\n",
        "    Convert temperature from Fahrenheit to Celsius.\n",
        "\n",
        "    The conversion formula is:\n",
        "    tempc = 5/9 * (tempf - 32)\n",
        "\n",
        "    Parameters:\n",
        "    tempf (float): Temperature in degrees Fahrenheit.\n",
        "\n",
        "    Returns:\n",
        "    float: Temperature in degrees Celsius.\n",
        "\n",
        "    Examples:\n",
        "    >>> f_to_c(212)\n",
        "    100.0\n",
        "    >>> f_to_c(32)\n",
        "    0.0\n",
        "    >>> f_to_c(98.6)\n",
        "    37.0\n",
        "    \"\"\"\n",
        "    return (5/9) * (tempf - 32)  # Convert to Celsius\n",
        "\n",
        "    ### END SOLUTION\n"
      ]
    },
    {
      "cell_type": "code",
      "execution_count": 6,
      "metadata": {
        "id": "vp_-ET1d6Cww"
      },
      "outputs": [],
      "source": [
        "assert f_to_c(212) == 100.0\n",
        "assert f_to_c(32) == 0.0\n",
        "assert f_to_c(98.6) == 37.0"
      ]
    },
    {
      "cell_type": "code",
      "execution_count": 7,
      "metadata": {
        "id": "LIIku2Fk6Cww",
        "outputId": "863bb455-f9b3-4213-fd36-0b04ff99343a",
        "colab": {
          "base_uri": "https://localhost:8080/"
        }
      },
      "outputs": [
        {
          "output_type": "stream",
          "name": "stderr",
          "text": [
            "\n",
            "PYDEV DEBUGGER WARNING:\n",
            "sys.settrace() should not be used when the debugger is being used.\n",
            "This may cause the debugger to stop working correctly.\n",
            "If this is needed, please check: \n",
            "http://pydev.blogspot.com/2007/06/why-cant-pydev-debugger-work-with.html\n",
            "to see how to restore the debug tracing back correctly.\n",
            "Call Location:\n",
            "  File \"/usr/lib/python3.10/doctest.py\", line 1501, in run\n",
            "    sys.settrace(save_trace)\n",
            "\n"
          ]
        },
        {
          "output_type": "stream",
          "name": "stdout",
          "text": [
            "Finding tests in NoName\n",
            "Trying:\n",
            "    f_to_c(212)\n",
            "Expecting:\n",
            "    100.0\n",
            "ok\n",
            "Trying:\n",
            "    f_to_c(32)\n",
            "Expecting:\n",
            "    0.0\n",
            "ok\n",
            "Trying:\n",
            "    f_to_c(98.6)\n",
            "Expecting:\n",
            "    37.0\n",
            "ok\n"
          ]
        }
      ],
      "source": [
        "import doctest\n",
        "doctest.run_docstring_examples(f_to_c, globals(), verbose=True)"
      ]
    },
    {
      "cell_type": "markdown",
      "metadata": {
        "id": "K7mfW0WD6Cww"
      },
      "source": [
        "### 25.3 Computing Length of Stay\n",
        "\n",
        "For this problem, we have a collection of patient enounter data stored as a Python dictionary.  The `key` for the dictionary is the **encounter ID**, a code that starts with the letter `E` followed by four numbers.  The value associated with each encounter ID is another Python dictionary.  This \"inner\" dictionary holds three items: admit date, primary diagnosis, and discharge date.  See the example in the code below.\n",
        "\n",
        "You need to write a length of stay function that computes the length of stay, in whole days, between the admit date and discharge date.  However, if the diagnosis is \"Observation\" then the length of stay should always be returned as 0 regardless of the admit and discharge dates. Your function should should take three parameters: a start date, an end date, and a diagnosis.\n",
        "\n",
        "You will find it handy to refer to this example here on how to calculate the number of days between two dates: https://stackoverflow.com/questions/151199/how-to-calculate-number-of-days-between-two-given-dates"
      ]
    },
    {
      "cell_type": "code",
      "execution_count": 8,
      "metadata": {
        "id": "VWPthWRc6Cwx"
      },
      "outputs": [],
      "source": [
        "from datetime import date\n",
        "\n",
        "### BEGIN SOLUTION\n",
        "\n",
        "\n",
        "\n",
        "from datetime import date\n",
        "\n",
        "def los(start_date, end_date, diagnosis):\n",
        "    \"\"\"\n",
        "    Calculate the length of stay in days between two dates.\n",
        "\n",
        "    If the diagnosis is \"Observation\", the length of stay is returned as 0.\n",
        "\n",
        "    Parameters:\n",
        "    start_date (date): The date the patient was admitted.\n",
        "    end_date (date): The date the patient was discharged.\n",
        "    diagnosis (str): The primary diagnosis of the patient.\n",
        "\n",
        "    Returns:\n",
        "    int: The length of stay in whole days.\n",
        "\n",
        "    Examples:\n",
        "    >>> los(date(2019, 1, 3), date(2019, 1, 8), \"COPD\")\n",
        "    5\n",
        "    >>> los(date(2020, 1, 5), date(2020, 1, 8), \"Observation\")\n",
        "    0\n",
        "    \"\"\"\n",
        "    if diagnosis == \"Observation\":\n",
        "        return 0  # Return 0 for Observation diagnosis\n",
        "\n",
        "    return (end_date - start_date).days  # Calculate the length of stay in days\n",
        "    ### END SOLUTION\n"
      ]
    },
    {
      "cell_type": "code",
      "execution_count": 9,
      "metadata": {
        "id": "uXZBYaHT6Cwx"
      },
      "outputs": [],
      "source": [
        "assert los(date(2019,1,3), date(2019,1,8), \"COPD\") == 5\n",
        "assert los(date(2020,1,5), date(2020,1,8), \"Observation\") == 0"
      ]
    },
    {
      "cell_type": "code",
      "execution_count": 10,
      "metadata": {
        "id": "_-T8K9sQ6Cwx",
        "outputId": "c759243b-e626-4a64-9cda-fff75e0a7a7c",
        "colab": {
          "base_uri": "https://localhost:8080/"
        }
      },
      "outputs": [
        {
          "output_type": "stream",
          "name": "stdout",
          "text": [
            "Finding tests in NoName\n",
            "Trying:\n",
            "    los(date(2019, 1, 3), date(2019, 1, 8), \"COPD\")\n",
            "Expecting:\n",
            "    5\n",
            "ok\n",
            "Trying:\n",
            "    los(date(2020, 1, 5), date(2020, 1, 8), \"Observation\")\n",
            "Expecting:\n",
            "    0\n",
            "ok\n"
          ]
        }
      ],
      "source": [
        "import doctest\n",
        "doctest.run_docstring_examples(los, globals(), verbose=True)"
      ]
    },
    {
      "cell_type": "code",
      "execution_count": 23,
      "metadata": {
        "id": "_XFGt-iJ6Cwx",
        "outputId": "963e086e-eaa7-4794-d36d-6ab0fb6177a0",
        "colab": {
          "base_uri": "https://localhost:8080/"
        }
      },
      "outputs": [
        {
          "output_type": "stream",
          "name": "stdout",
          "text": [
            "5\n",
            "4\n",
            "1\n",
            "0\n",
            "0\n"
          ]
        }
      ],
      "source": [
        "encounters = {\n",
        "    \"E1234\": { \"admit\": date(2019,1,3), \"diagnosis\": \"COPD\", \"discharge\": date(2019,1,8) },\n",
        "    \"E8342\": { \"admit\": date(2019,1,5), \"diagnosis\": \"Hypertension\", \"discharge\": date(2019,1,9) },\n",
        "    \"E9231\": { \"admit\": date(2019,1,12), \"diagnosis\": \"Anxiety\", \"discharge\": date(2019,1,13) },\n",
        "    \"E8333\": { \"admit\": date(2019,1,15), \"diagnosis\": \"Observation\", \"discharge\": date(2019,1,16) },\n",
        "    \"E3342\": { \"admit\": date(2019,1,4), \"diagnosis\": \"Anxiety\", \"discharge\": date(2019,1,4)}\n",
        "}\n",
        "\n",
        "\n",
        "for encid, visit in encounters.items():\n",
        "    print(los(visit['admit'],visit['discharge'],visit['diagnosis']))\n",
        "\n",
        "# Your output should be\n",
        "# 5\n",
        "# 4\n",
        "# 1\n",
        "# 0\n",
        "# 0"
      ]
    },
    {
      "cell_type": "markdown",
      "metadata": {
        "id": "dtDRQTXG6Cwx"
      },
      "source": [
        "---\n",
        "---\n",
        "\n",
        "### 25.4 Average Length of Stay\n",
        "\n",
        "Create a function called `average_los` that returns the average of the LOS for the encounters in the provided dictionary. The encounters must be a dictionary that contains dictionaries that each contain at least an admit date and a discharge date.\n",
        "    \n",
        "If the length of stay of any individual encounter is 0, then it will not be counted toward the average."
      ]
    },
    {
      "cell_type": "code",
      "execution_count": 21,
      "metadata": {
        "id": "biyTwoEs6Cwx",
        "outputId": "93a8dde1-4183-4ced-f1cf-bb89513bb27e",
        "colab": {
          "base_uri": "https://localhost:8080/"
        }
      },
      "outputs": [
        {
          "output_type": "stream",
          "name": "stdout",
          "text": [
            "Average Length of Stay: 3.33 days\n"
          ]
        }
      ],
      "source": [
        "\n",
        "### BEGIN SOLUTION\n",
        "\n",
        "from datetime import date\n",
        "\n",
        "def los(start_date, end_date, diagnosis):\n",
        "    \"\"\"\n",
        "    Calculate the length of stay in days between two dates.\n",
        "\n",
        "    If the diagnosis is \"Observation\", the length of stay is returned as 0.\n",
        "\n",
        "    Parameters:\n",
        "    start_date (date): The date the patient was admitted.\n",
        "    end_date (date): The date the patient was discharged.\n",
        "    diagnosis (str): The primary diagnosis of the patient.\n",
        "\n",
        "    Returns:\n",
        "    int: The length of stay in whole days.\n",
        "    \"\"\"\n",
        "    if diagnosis == \"Observation\":\n",
        "        return 0  # Return 0 for Observation diagnosis\n",
        "\n",
        "    return (end_date - start_date).days  # Calculate the length of stay in days\n",
        "\n",
        "\n",
        "def average_los(encounters):\n",
        "    \"\"\"\n",
        "    Calculate the average length of stay for a given dictionary of encounters.\n",
        "\n",
        "    Encounters with a length of stay of 0 are not counted toward the average.\n",
        "\n",
        "    Parameters:\n",
        "    encounters (dict): A dictionary where each key is an encounter ID and\n",
        "                       the value is a dictionary containing admit and discharge dates.\n",
        "\n",
        "    Returns:\n",
        "    float: The average length of stay in days, or 0 if no valid LOS is found.\n",
        "\n",
        "    Examples:\n",
        "    >>> encounters = {\n",
        "    ...     \"E1234\": { \"admit\": date(2019, 1, 3), \"diagnosis\": \"COPD\", \"discharge\": date(2019, 1, 8) },\n",
        "    ...     \"E8342\": { \"admit\": date(2019, 1, 5), \"diagnosis\": \"Hypertension\", \"discharge\": date(2019, 1, 9) },\n",
        "    ...     \"E9231\": { \"admit\": date(2019, 1, 12), \"diagnosis\": \"Anxiety\", \"discharge\": date(2019, 1, 13) },\n",
        "    ...     \"E8333\": { \"admit\": date(2019, 1, 15), \"diagnosis\": \"Observation\", \"discharge\": date(2019, 1, 16) },\n",
        "    ...     \"E3342\": { \"admit\": date(2019, 1, 4), \"diagnosis\": \"Anxiety\", \"discharge\": date(2019, 1, 4) }\n",
        "    ... }\n",
        "    >>> average_los(encounters)\n",
        "    3.0\n",
        "    \"\"\"\n",
        "    total_los = 0\n",
        "    count = 0\n",
        "\n",
        "    for data in encounters.values():\n",
        "        length_of_stay = los(data[\"admit\"], data[\"discharge\"], data[\"diagnosis\"])\n",
        "\n",
        "        if length_of_stay > 0:  # Only consider LOS > 0 for average\n",
        "            total_los += length_of_stay\n",
        "            count += 1\n",
        "\n",
        "    return total_los / count if count > 0 else 0  # Return average or 0 if no valid LOS found\n",
        "\n",
        "# Example usage\n",
        "encounters = {\n",
        "    \"E1234\": { \"admit\": date(2019, 1, 3), \"diagnosis\": \"COPD\", \"discharge\": date(2019, 1, 8) },\n",
        "    \"E8342\": { \"admit\": date(2019, 1, 5), \"diagnosis\": \"Hypertension\", \"discharge\": date(2019, 1, 9) },\n",
        "    \"E9231\": { \"admit\": date(2019, 1, 12), \"diagnosis\": \"Anxiety\", \"discharge\": date(2019, 1, 13) },\n",
        "    \"E8333\": { \"admit\": date(2019, 1, 15), \"diagnosis\": \"Observation\", \"discharge\": date(2019, 1, 16) },\n",
        "    \"E3342\": { \"admit\": date(2019, 1, 4), \"diagnosis\": \"Anxiety\", \"discharge\": date(2019, 1, 4) }\n",
        "}\n",
        "\n",
        "# Calculate the average length of stay\n",
        "average_length_of_stay = average_los(encounters)\n",
        "print(f\"Average Length of Stay: {average_length_of_stay:.2f} days\")\n",
        "\n",
        "\n",
        "\n",
        "### END SOLUTION\n"
      ]
    },
    {
      "cell_type": "markdown",
      "metadata": {
        "id": "_BRGrYqH6Cwy"
      },
      "source": [
        "---\n",
        "\n",
        "### 25.5 Celsius to Farenheit\n",
        "\n",
        "Write your own function called `c_to_f` that converts degrees Celsius to degrees Farenheit.  Include in your solution a series of doc tests that can verify the conversion using inputs of 100, 0, and 37 degrees Celsius"
      ]
    },
    {
      "cell_type": "code",
      "execution_count": 22,
      "metadata": {
        "id": "7hKkFOY66Cwy"
      },
      "outputs": [],
      "source": [
        "### BEGIN SOLUTION\n",
        "\n",
        "\n",
        "\n",
        "def c_to_f(temp_c):\n",
        "    \"\"\"\n",
        "    Convert degrees Celsius to degrees Fahrenheit.\n",
        "\n",
        "    The conversion formula is:\n",
        "    temp_f = (temp_c * 9/5) + 32\n",
        "\n",
        "    Parameters:\n",
        "    temp_c (float): Temperature in degrees Celsius.\n",
        "\n",
        "    Returns:\n",
        "    float: Temperature in degrees Fahrenheit.\n",
        "\n",
        "    Examples:\n",
        "    >>> c_to_f(100)\n",
        "    212.0\n",
        "    >>> c_to_f(0)\n",
        "    32.0\n",
        "    >>> c_to_f(37)\n",
        "    98.6\n",
        "    \"\"\"\n",
        "    return (temp_c * 9/5) + 32  # Convert Celsius to Fahrenheit\n",
        "    ### END SOLUTION\n"
      ]
    },
    {
      "cell_type": "code",
      "execution_count": 19,
      "metadata": {
        "id": "8iH3Xjmb6Cwy",
        "outputId": "87d6d317-25c4-47ad-99f5-9ac724985032",
        "colab": {
          "base_uri": "https://localhost:8080/"
        }
      },
      "outputs": [
        {
          "output_type": "stream",
          "name": "stdout",
          "text": [
            "Finding tests in NoName\n",
            "Trying:\n",
            "    c_to_f(100)\n",
            "Expecting:\n",
            "    212.0\n",
            "ok\n",
            "Trying:\n",
            "    c_to_f(0)\n",
            "Expecting:\n",
            "    32.0\n",
            "ok\n",
            "Trying:\n",
            "    c_to_f(37)\n",
            "Expecting:\n",
            "    98.6\n",
            "ok\n"
          ]
        }
      ],
      "source": [
        "import doctest\n",
        "doctest.run_docstring_examples(c_to_f, globals(), verbose=True)"
      ]
    },
    {
      "cell_type": "code",
      "execution_count": 22,
      "metadata": {
        "id": "sItMcfqA6Cwy"
      },
      "outputs": [],
      "source": []
    },
    {
      "cell_type": "markdown",
      "metadata": {
        "id": "BQ046kCt6Cwy"
      },
      "source": [
        "---\n",
        "\n",
        "## Check your work above\n",
        "\n",
        "If you didn't get them all correct, take a few minutes to think through those that aren't correct.\n",
        "\n",
        "\n",
        "## Submitting Your Work\n",
        "\n",
        "In order to submit your work, you'll need to use the `git` command line program to **add** your homework file (this file) to your local repository, **commit** your changes to your local repository, and then **push** those changes up to github.com.  From there, I'll be able to **pull** the changes down and do my grading.  I'll provide some feedback, **commit** and **push** my comments back to you.  Next week, I'll show you how to **pull** down my comments.\n",
        "\n",
        "First run through everything one last time and submit your work:\n",
        "1. Use the `Kernel` -> `Restart Kernel and Run All Cells` menu option to run everything from top to bottom and stop here.\n",
        "2. Then open a new command line by clicking the `+` icon above the file list and chosing `Terminal`\n",
        "3. At the command line in the new Terminal, follow these steps:\n",
        "  1. Change directories to your project folder and the week03 subfolder (`cd <folder name>`)\n",
        "  2. Make sure your project folders are up to date with github.com (`git pull`)\n",
        "  3. Add the homework files for this week (`git add <file name>`)\n",
        "  4. Commit your changes (`git commit -a -m \"message\"`)\n",
        "  5. Push your changes (`git push`)\n",
        "  \n",
        "If anything fails along the way with this submission part of the process, let me know.  I'll help you troubleshoort."
      ]
    }
  ],
  "metadata": {
    "celltoolbar": "Create Assignment",
    "kernelspec": {
      "display_name": "Python 3",
      "language": "python",
      "name": "python3"
    },
    "language_info": {
      "codemirror_mode": {
        "name": "ipython",
        "version": 3
      },
      "file_extension": ".py",
      "mimetype": "text/x-python",
      "name": "python",
      "nbconvert_exporter": "python",
      "pygments_lexer": "ipython3",
      "version": "3.6.7"
    },
    "colab": {
      "provenance": [],
      "include_colab_link": true
    }
  },
  "nbformat": 4,
  "nbformat_minor": 0
}